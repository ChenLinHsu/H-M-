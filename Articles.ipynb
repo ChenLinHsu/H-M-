{
 "cells": [
  {
   "cell_type": "code",
   "execution_count": 5,
   "id": "0aed728d",
   "metadata": {},
   "outputs": [],
   "source": [
    "import pandas as pd\n",
    "tts_train = pd.read_csv('transactions_train.csv')\n",
    "#articles = pd.read_csv('articles.csv', encoding='utf-8')\n",
    "customers = pd.read_csv('customers.csv', encoding='utf-8')\n",
    "sample_submission = pd.read_csv('sample_submission.csv')\n",
    "#print(articles.head())"
   ]
  },
  {
   "cell_type": "code",
   "execution_count": 7,
   "id": "46eac73d",
   "metadata": {},
   "outputs": [
    {
     "name": "stdout",
     "output_type": "stream",
     "text": [
      "<class 'pandas.core.frame.DataFrame'>\n",
      "RangeIndex: 105540 entries, 0 to 105539\n",
      "Data columns (total 27 columns):\n",
      " #   Column                        Non-Null Count   Dtype \n",
      "---  ------                        --------------   ----- \n",
      " 0   article_id                    105540 non-null  int64 \n",
      " 1   product_code                  105540 non-null  int64 \n",
      " 2   prod_name                     105540 non-null  object\n",
      " 3   product_type_no               105540 non-null  int64 \n",
      " 4   product_type_name             105540 non-null  object\n",
      " 5   product_group_name            105540 non-null  object\n",
      " 6   graphical_appearance_no       105540 non-null  int64 \n",
      " 7   graphical_appearance_name     105540 non-null  object\n",
      " 8   colour_group_code             105540 non-null  int64 \n",
      " 9   colour_group_name             105540 non-null  object\n",
      " 10  perceived_colour_value_id     105540 non-null  int64 \n",
      " 11  perceived_colour_value_name   105540 non-null  object\n",
      " 12  perceived_colour_master_id    105540 non-null  int64 \n",
      " 13  perceived_colour_master_name  105540 non-null  object\n",
      " 14  department_no                 105540 non-null  int64 \n",
      " 15  department_name               105540 non-null  object\n",
      " 16  index_code                    105540 non-null  object\n",
      " 17  index_name                    105540 non-null  object\n",
      " 18  index_group_no                105540 non-null  int64 \n",
      " 19  index_group_name              105540 non-null  object\n",
      " 20  section_no                    105540 non-null  int64 \n",
      " 21  section_name                  105540 non-null  object\n",
      " 22  garment_group_no              105540 non-null  int64 \n",
      " 23  garment_group_name            105540 non-null  object\n",
      " 24  detail_desc                   105124 non-null  object\n",
      " 25  Unnamed: 25                   1 non-null       object\n",
      " 26  Unnamed: 26                   1 non-null       object\n",
      "dtypes: int64(11), object(16)\n",
      "memory usage: 21.7+ MB\n"
     ]
    },
    {
     "name": "stderr",
     "output_type": "stream",
     "text": [
      "C:\\Users\\User\\AppData\\Local\\Temp\\ipykernel_21640\\958189543.py:5: DtypeWarning: Columns (25,26) have mixed types. Specify dtype option on import or set low_memory=False.\n",
      "  articles = pd.read_csv(f)\n"
     ]
    }
   ],
   "source": [
    "import codecs\n",
    "import pandas as pd\n",
    "\n",
    "with codecs.open('articles.csv', 'r', encoding='utf-8', errors='ignore') as f:\n",
    "    articles = pd.read_csv(f)\n",
    "articles.info()"
   ]
  },
  {
   "cell_type": "code",
   "execution_count": 9,
   "id": "6d3d74de",
   "metadata": {},
   "outputs": [],
   "source": [
    "a_list=['article_id','graphical_appearance_no','colour_group_code','index_code','index_group_no','section_no','garment_group_no']\n",
    "articles_5=articles.iloc[:,[6,8,14,22]]\n",
    "articles_6=articles.iloc[:,1]"
   ]
  },
  {
   "cell_type": "code",
   "execution_count": 11,
   "id": "c2f2c02d",
   "metadata": {},
   "outputs": [
    {
     "name": "stdout",
     "output_type": "stream",
     "text": [
      "R-squared: 0.09331057966325862\n",
      "Explained variance score: 0.09346916523968796\n"
     ]
    }
   ],
   "source": [
    "#GradientBoostingRegressor\n",
    "from sklearn.ensemble import GradientBoostingRegressor\n",
    "from sklearn.model_selection import train_test_split\n",
    "from sklearn.metrics import mean_squared_error, mean_absolute_error, r2_score, explained_variance_score\n",
    "X, y = articles_5,articles_6\n",
    "# split the data into training and testing sets\n",
    "X_train, X_test, y_train, y_test = train_test_split(X, y, test_size=0.2, random_state=42)\n",
    "# create a GradientBoostingRegressor object\n",
    "reg = GradientBoostingRegressor(n_estimators=100, learning_rate=0.1, max_depth=3, random_state=42)\n",
    "# train the model on the training data\n",
    "reg.fit(X_train, y_train)\n",
    "# make predictions on the testing data\n",
    "y_pred = reg.predict(X_test)\n",
    "# compute the evaluation metrics between the predicted and actual values\n",
    "r2 = r2_score(y_test, y_pred)\n",
    "ev = explained_variance_score(y_test, y_pred)\n",
    "print('R-squared:', r2)\n",
    "print('Explained variance score:', ev)"
   ]
  },
  {
   "cell_type": "code",
   "execution_count": 12,
   "id": "fb79d834",
   "metadata": {},
   "outputs": [
    {
     "name": "stdout",
     "output_type": "stream",
     "text": [
      "R-squared: 0.09233902295807028\n",
      "Explained variance score: 0.09249456783164012\n"
     ]
    }
   ],
   "source": [
    "#xgboost\n",
    "import xgboost as xgb\n",
    "from sklearn.model_selection import train_test_split\n",
    "from sklearn.metrics import mean_squared_error, mean_absolute_error, r2_score, explained_variance_score\n",
    "X, y = articles_5,articles_6\n",
    "X_train, X_test, y_train, y_test = train_test_split(X, y, test_size=0.2, random_state=42)\n",
    "\n",
    "# create an XGBoost regressor object\n",
    "reg = xgb.XGBRegressor(objective='reg:squarederror', n_estimators=100, learning_rate=0.1, max_depth=3, subsample=0.8, colsample_bytree=0.8)\n",
    "# train the model on the training data\n",
    "reg.fit(X_train, y_train)\n",
    "# make predictions on the testing data\n",
    "y_pred = reg.predict(X_test)\n",
    "# compute the evaluation metrics between the predicted and actual values\n",
    "r2 = r2_score(y_test, y_pred)\n",
    "ev = explained_variance_score(y_test, y_pred)\n",
    "print('R-squared:', r2)\n",
    "print('Explained variance score:', ev)"
   ]
  },
  {
   "cell_type": "code",
   "execution_count": 13,
   "id": "3af8aae4",
   "metadata": {},
   "outputs": [
    {
     "name": "stdout",
     "output_type": "stream",
     "text": [
      "R-squared: 0.07561473070088331\n",
      "Explained variance score: 0.07576060683637809\n"
     ]
    }
   ],
   "source": [
    "#Catboost\n",
    "import catboost as cb\n",
    "from sklearn.datasets import load_boston\n",
    "from sklearn.model_selection import train_test_split\n",
    "from sklearn.metrics import mean_squared_error, mean_absolute_error, r2_score, explained_variance_score\n",
    "X, y = articles_5,articles_6\n",
    "X_train, X_test, y_train, y_test = train_test_split(X, y, test_size=0.2, random_state=42)\n",
    "# create a CatBoost regressor object\n",
    "reg = cb.CatBoostRegressor(iterations=100, learning_rate=0.1, depth=3, l2_leaf_reg=1, verbose=False)\n",
    "# train the model on the training data\n",
    "reg.fit(X_train, y_train)\n",
    "# make predictions on the testing data\n",
    "y_pred = reg.predict(X_test)\n",
    "# compute the evaluation metrics between the predicted and actual values\n",
    "r2 = r2_score(y_test, y_pred)\n",
    "ev = explained_variance_score(y_test, y_pred)\n",
    "print('R-squared:', r2)\n",
    "print('Explained variance score:', ev)"
   ]
  },
  {
   "cell_type": "code",
   "execution_count": null,
   "id": "8f30b79e",
   "metadata": {},
   "outputs": [],
   "source": []
  }
 ],
 "metadata": {
  "kernelspec": {
   "display_name": "Python 3 (ipykernel)",
   "language": "python",
   "name": "python3"
  },
  "language_info": {
   "codemirror_mode": {
    "name": "ipython",
    "version": 3
   },
   "file_extension": ".py",
   "mimetype": "text/x-python",
   "name": "python",
   "nbconvert_exporter": "python",
   "pygments_lexer": "ipython3",
   "version": "3.9.12"
  }
 },
 "nbformat": 4,
 "nbformat_minor": 5
}
